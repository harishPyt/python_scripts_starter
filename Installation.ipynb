{
 "cells": [
  {
   "cell_type": "markdown",
   "metadata": {},
   "source": [
    "#### ANACONDA INSTALLATION\n",
    "wget http://repo.continuum.io/archive/Anaconda3-5.2.0-Linux-x86_64.sh \n",
    "This command would help you get the anaconda installer to your machine.\n",
    "bash Anaconda3-5.2.0-Linux-x86_64.sh  to install\n",
    "##### References\n",
    "* [Medium Article - Anaconda and other python libraries installation in AWS server](https://medium.com/@josemarcialportilla/getting-spark-python-and-jupyter-notebook-running-on-amazon-ec2-dec599e1c297)\n",
    "* [Ananconda link](http://repo.continuum.io/archive/Anaconda3-5.2.0-Linux-x86_64.sh)\n",
    "\n",
    "##### Other package installations \n",
    "* pymongo - This is a mongo database driver for python. It doesn't come within the initial set of conda packages and hence we need to install it. conda install pymongo would install the latest version of the driver. Make sure your script that uses this driver are compatible. If not, install older versions as applicable.\n"
   ]
  },
  {
   "cell_type": "markdown",
   "metadata": {},
   "source": [
    "#### CRONTAB\n",
    "Crontabs is a way where you can schedule and run a script/program . This is possible in a unix/linux/mac environment. Although alternatives may be there for windows os.\n",
    "\n",
    "* HOW? - crontab -e -> This would open a file in your preferred editor, if it is not set , it will ask you the default editor to be set.\n",
    "* FORMAT? cron_expression | path_to_the_executable_suitable_for_the_script | script_that_you_want_to_run\n",
    "\n",
    "##### Sample crontab entries in the project\n",
    "* 0 \\* \\* \\* \\* /home/ec2-user/ENTER/bin/python3.6 /home/ec2-user/scripts/staging_cron.py\n",
    "* 0 \\* \\*/10 \\* \\* /home/ec2-user/ENTER/bin/python3.6 /home/ec2-user/scripts/add_new_route_templates.py\n"
   ]
  },
  {
   "cell_type": "code",
   "execution_count": null,
   "metadata": {},
   "outputs": [],
   "source": []
  }
 ],
 "metadata": {
  "kernelspec": {
   "display_name": "Python 3",
   "language": "python",
   "name": "python3"
  },
  "language_info": {
   "codemirror_mode": {
    "name": "ipython",
    "version": 3
   },
   "file_extension": ".py",
   "mimetype": "text/x-python",
   "name": "python",
   "nbconvert_exporter": "python",
   "pygments_lexer": "ipython3",
   "version": "3.6.4"
  }
 },
 "nbformat": 4,
 "nbformat_minor": 2
}
